{
 "cells": [
  {
   "cell_type": "code",
   "execution_count": 1,
   "id": "551d496a-7adc-48c3-bbd5-44183d38d68a",
   "metadata": {},
   "outputs": [],
   "source": [
    "setwd(\"C:/Users/DJ COMPUTERS/OneDrive/Desktop/R prog\")\n",
    "### CREDIT FRAUD DETECTION ###\n",
    "### ADITYA KUMAR ROY ###"
   ]
  },
  {
   "cell_type": "code",
   "execution_count": 3,
   "id": "5f08c970-0939-458b-bfc6-b630f743d5e5",
   "metadata": {},
   "outputs": [],
   "source": [
    "# Load required libraries\n",
    "library(readxl)\n",
    "library(readr)\n",
    "library(dplyr)\n",
    "library(caret)       # For model training and evaluation\n",
    "library(randomForest) # For Random Forest\n",
    "library(rpart)       # For Decision Tree\n",
    "library(e1071)       # For logistic regression and cross-validation\n",
    "library(pROC)        # For ROC and AUC"
   ]
  },
  {
   "cell_type": "code",
   "execution_count": 4,
   "id": "18bb2b2d-e0bd-449a-a170-e128d1cfc863",
   "metadata": {},
   "outputs": [
    {
     "name": "stderr",
     "output_type": "stream",
     "text": [
      "\u001b[1m\u001b[22mNew names:\n",
      "\u001b[36m•\u001b[39m `` -> `...1`\n"
     ]
    },
    {
     "data": {
      "text/html": [
       "<table class=\"dataframe\">\n",
       "<caption>A tibble: 6 × 23</caption>\n",
       "<thead>\n",
       "\t<tr><th scope=col>...1</th><th scope=col>trans_date_trans_time</th><th scope=col>cc_num</th><th scope=col>merchant</th><th scope=col>category</th><th scope=col>amt</th><th scope=col>first</th><th scope=col>last</th><th scope=col>gender</th><th scope=col>street</th><th scope=col>⋯</th><th scope=col>lat</th><th scope=col>long</th><th scope=col>city_pop</th><th scope=col>job</th><th scope=col>dob</th><th scope=col>trans_num</th><th scope=col>unix_time</th><th scope=col>merch_lat</th><th scope=col>merch_long</th><th scope=col>is_fraud</th></tr>\n",
       "\t<tr><th scope=col>&lt;dbl&gt;</th><th scope=col>&lt;dttm&gt;</th><th scope=col>&lt;dbl&gt;</th><th scope=col>&lt;chr&gt;</th><th scope=col>&lt;chr&gt;</th><th scope=col>&lt;dbl&gt;</th><th scope=col>&lt;chr&gt;</th><th scope=col>&lt;chr&gt;</th><th scope=col>&lt;chr&gt;</th><th scope=col>&lt;chr&gt;</th><th scope=col>⋯</th><th scope=col>&lt;dbl&gt;</th><th scope=col>&lt;dbl&gt;</th><th scope=col>&lt;dbl&gt;</th><th scope=col>&lt;chr&gt;</th><th scope=col>&lt;date&gt;</th><th scope=col>&lt;chr&gt;</th><th scope=col>&lt;dbl&gt;</th><th scope=col>&lt;dbl&gt;</th><th scope=col>&lt;dbl&gt;</th><th scope=col>&lt;dbl&gt;</th></tr>\n",
       "</thead>\n",
       "<tbody>\n",
       "\t<tr><td>0</td><td>2020-06-21 12:14:25</td><td>2.291164e+15</td><td>fraud_Kirlin and Sons               </td><td>personal_care </td><td> 2.86</td><td>Jeff    </td><td>Elliott </td><td>M</td><td>351 Darlene Green          </td><td>⋯</td><td>33.9659</td><td> -80.9355</td><td>333497</td><td>Mechanical engineer   </td><td>1968-03-19</td><td>2da90c7d74bd46a0caf3777415b3ebd3</td><td>1371816865</td><td>33.98639</td><td> -81.20071</td><td>0</td></tr>\n",
       "\t<tr><td>1</td><td>2020-06-21 12:14:33</td><td>3.573030e+15</td><td>fraud_Sporer-Keebler                </td><td>personal_care </td><td>29.84</td><td>Joanne  </td><td>Williams</td><td>F</td><td>3638 Marsh Union           </td><td>⋯</td><td>40.3207</td><td>-110.4360</td><td>   302</td><td>Sales professional, IT</td><td>1990-01-17</td><td>324cc204407e99f51b0d6ca0055005e7</td><td>1371816873</td><td>39.45050</td><td>-109.96043</td><td>0</td></tr>\n",
       "\t<tr><td>2</td><td>2020-06-21 12:14:53</td><td>3.598215e+15</td><td>fraud_Swaniawski, Nitzsche and Welch</td><td>health_fitness</td><td>41.28</td><td>Ashley  </td><td>Lopez   </td><td>F</td><td>9333 Valentine Point       </td><td>⋯</td><td>40.6729</td><td> -73.5365</td><td> 34496</td><td>Librarian, public     </td><td>1970-10-21</td><td>c81755dbbbea9d5c77f094348a7579be</td><td>1371816893</td><td>40.49581</td><td> -74.19611</td><td>0</td></tr>\n",
       "\t<tr><td>3</td><td>2020-06-21 12:15:15</td><td>3.591920e+15</td><td>fraud_Haley Group                   </td><td>misc_pos      </td><td>60.05</td><td>Brian   </td><td>Williams</td><td>M</td><td>32941 Krystal Mill Apt. 552</td><td>⋯</td><td>28.5697</td><td> -80.8191</td><td> 54767</td><td>Set designer          </td><td>1987-07-25</td><td>2159175b9efe66dc301f149d3d5abf8c</td><td>1371816915</td><td>28.81240</td><td> -80.88306</td><td>0</td></tr>\n",
       "\t<tr><td>4</td><td>2020-06-21 12:15:17</td><td>3.526826e+15</td><td>fraud_Johnston-Casper               </td><td>travel        </td><td> 3.19</td><td>Nathan  </td><td>Massey  </td><td>M</td><td>5783 Evan Roads Apt. 465   </td><td>⋯</td><td>44.2529</td><td> -85.0170</td><td>  1126</td><td>Furniture designer    </td><td>1955-07-06</td><td>57ff021bd3f328f8738bb535c302a31b</td><td>1371816917</td><td>44.95915</td><td> -85.88473</td><td>0</td></tr>\n",
       "\t<tr><td>5</td><td>2020-06-21 12:15:37</td><td>3.040768e+13</td><td>fraud_Daugherty LLC                 </td><td>kids_pets     </td><td>19.55</td><td>Danielle</td><td>Evans   </td><td>F</td><td>76752 David Lodge Apt. 064 </td><td>⋯</td><td>42.1939</td><td> -76.7361</td><td>   520</td><td>Psychotherapist       </td><td>1991-10-13</td><td>798db04aaceb4febd084f1a7c404da93</td><td>1371816937</td><td>41.74716</td><td> -77.58420</td><td>0</td></tr>\n",
       "</tbody>\n",
       "</table>\n"
      ],
      "text/latex": [
       "A tibble: 6 × 23\n",
       "\\begin{tabular}{lllllllllllllllllllll}\n",
       " ...1 & trans\\_date\\_trans\\_time & cc\\_num & merchant & category & amt & first & last & gender & street & ⋯ & lat & long & city\\_pop & job & dob & trans\\_num & unix\\_time & merch\\_lat & merch\\_long & is\\_fraud\\\\\n",
       " <dbl> & <dttm> & <dbl> & <chr> & <chr> & <dbl> & <chr> & <chr> & <chr> & <chr> & ⋯ & <dbl> & <dbl> & <dbl> & <chr> & <date> & <chr> & <dbl> & <dbl> & <dbl> & <dbl>\\\\\n",
       "\\hline\n",
       "\t 0 & 2020-06-21 12:14:25 & 2.291164e+15 & fraud\\_Kirlin and Sons                & personal\\_care  &  2.86 & Jeff     & Elliott  & M & 351 Darlene Green           & ⋯ & 33.9659 &  -80.9355 & 333497 & Mechanical engineer    & 1968-03-19 & 2da90c7d74bd46a0caf3777415b3ebd3 & 1371816865 & 33.98639 &  -81.20071 & 0\\\\\n",
       "\t 1 & 2020-06-21 12:14:33 & 3.573030e+15 & fraud\\_Sporer-Keebler                 & personal\\_care  & 29.84 & Joanne   & Williams & F & 3638 Marsh Union            & ⋯ & 40.3207 & -110.4360 &    302 & Sales professional, IT & 1990-01-17 & 324cc204407e99f51b0d6ca0055005e7 & 1371816873 & 39.45050 & -109.96043 & 0\\\\\n",
       "\t 2 & 2020-06-21 12:14:53 & 3.598215e+15 & fraud\\_Swaniawski, Nitzsche and Welch & health\\_fitness & 41.28 & Ashley   & Lopez    & F & 9333 Valentine Point        & ⋯ & 40.6729 &  -73.5365 &  34496 & Librarian, public      & 1970-10-21 & c81755dbbbea9d5c77f094348a7579be & 1371816893 & 40.49581 &  -74.19611 & 0\\\\\n",
       "\t 3 & 2020-06-21 12:15:15 & 3.591920e+15 & fraud\\_Haley Group                    & misc\\_pos       & 60.05 & Brian    & Williams & M & 32941 Krystal Mill Apt. 552 & ⋯ & 28.5697 &  -80.8191 &  54767 & Set designer           & 1987-07-25 & 2159175b9efe66dc301f149d3d5abf8c & 1371816915 & 28.81240 &  -80.88306 & 0\\\\\n",
       "\t 4 & 2020-06-21 12:15:17 & 3.526826e+15 & fraud\\_Johnston-Casper                & travel         &  3.19 & Nathan   & Massey   & M & 5783 Evan Roads Apt. 465    & ⋯ & 44.2529 &  -85.0170 &   1126 & Furniture designer     & 1955-07-06 & 57ff021bd3f328f8738bb535c302a31b & 1371816917 & 44.95915 &  -85.88473 & 0\\\\\n",
       "\t 5 & 2020-06-21 12:15:37 & 3.040768e+13 & fraud\\_Daugherty LLC                  & kids\\_pets      & 19.55 & Danielle & Evans    & F & 76752 David Lodge Apt. 064  & ⋯ & 42.1939 &  -76.7361 &    520 & Psychotherapist        & 1991-10-13 & 798db04aaceb4febd084f1a7c404da93 & 1371816937 & 41.74716 &  -77.58420 & 0\\\\\n",
       "\\end{tabular}\n"
      ],
      "text/markdown": [
       "\n",
       "A tibble: 6 × 23\n",
       "\n",
       "| ...1 &lt;dbl&gt; | trans_date_trans_time &lt;dttm&gt; | cc_num &lt;dbl&gt; | merchant &lt;chr&gt; | category &lt;chr&gt; | amt &lt;dbl&gt; | first &lt;chr&gt; | last &lt;chr&gt; | gender &lt;chr&gt; | street &lt;chr&gt; | ⋯ ⋯ | lat &lt;dbl&gt; | long &lt;dbl&gt; | city_pop &lt;dbl&gt; | job &lt;chr&gt; | dob &lt;date&gt; | trans_num &lt;chr&gt; | unix_time &lt;dbl&gt; | merch_lat &lt;dbl&gt; | merch_long &lt;dbl&gt; | is_fraud &lt;dbl&gt; |\n",
       "|---|---|---|---|---|---|---|---|---|---|---|---|---|---|---|---|---|---|---|---|---|\n",
       "| 0 | 2020-06-21 12:14:25 | 2.291164e+15 | fraud_Kirlin and Sons                | personal_care  |  2.86 | Jeff     | Elliott  | M | 351 Darlene Green           | ⋯ | 33.9659 |  -80.9355 | 333497 | Mechanical engineer    | 1968-03-19 | 2da90c7d74bd46a0caf3777415b3ebd3 | 1371816865 | 33.98639 |  -81.20071 | 0 |\n",
       "| 1 | 2020-06-21 12:14:33 | 3.573030e+15 | fraud_Sporer-Keebler                 | personal_care  | 29.84 | Joanne   | Williams | F | 3638 Marsh Union            | ⋯ | 40.3207 | -110.4360 |    302 | Sales professional, IT | 1990-01-17 | 324cc204407e99f51b0d6ca0055005e7 | 1371816873 | 39.45050 | -109.96043 | 0 |\n",
       "| 2 | 2020-06-21 12:14:53 | 3.598215e+15 | fraud_Swaniawski, Nitzsche and Welch | health_fitness | 41.28 | Ashley   | Lopez    | F | 9333 Valentine Point        | ⋯ | 40.6729 |  -73.5365 |  34496 | Librarian, public      | 1970-10-21 | c81755dbbbea9d5c77f094348a7579be | 1371816893 | 40.49581 |  -74.19611 | 0 |\n",
       "| 3 | 2020-06-21 12:15:15 | 3.591920e+15 | fraud_Haley Group                    | misc_pos       | 60.05 | Brian    | Williams | M | 32941 Krystal Mill Apt. 552 | ⋯ | 28.5697 |  -80.8191 |  54767 | Set designer           | 1987-07-25 | 2159175b9efe66dc301f149d3d5abf8c | 1371816915 | 28.81240 |  -80.88306 | 0 |\n",
       "| 4 | 2020-06-21 12:15:17 | 3.526826e+15 | fraud_Johnston-Casper                | travel         |  3.19 | Nathan   | Massey   | M | 5783 Evan Roads Apt. 465    | ⋯ | 44.2529 |  -85.0170 |   1126 | Furniture designer     | 1955-07-06 | 57ff021bd3f328f8738bb535c302a31b | 1371816917 | 44.95915 |  -85.88473 | 0 |\n",
       "| 5 | 2020-06-21 12:15:37 | 3.040768e+13 | fraud_Daugherty LLC                  | kids_pets      | 19.55 | Danielle | Evans    | F | 76752 David Lodge Apt. 064  | ⋯ | 42.1939 |  -76.7361 |    520 | Psychotherapist        | 1991-10-13 | 798db04aaceb4febd084f1a7c404da93 | 1371816937 | 41.74716 |  -77.58420 | 0 |\n",
       "\n"
      ],
      "text/plain": [
       "  ...1 trans_date_trans_time cc_num       merchant                            \n",
       "1 0    2020-06-21 12:14:25   2.291164e+15 fraud_Kirlin and Sons               \n",
       "2 1    2020-06-21 12:14:33   3.573030e+15 fraud_Sporer-Keebler                \n",
       "3 2    2020-06-21 12:14:53   3.598215e+15 fraud_Swaniawski, Nitzsche and Welch\n",
       "4 3    2020-06-21 12:15:15   3.591920e+15 fraud_Haley Group                   \n",
       "5 4    2020-06-21 12:15:17   3.526826e+15 fraud_Johnston-Casper               \n",
       "6 5    2020-06-21 12:15:37   3.040768e+13 fraud_Daugherty LLC                 \n",
       "  category       amt   first    last     gender street                      ⋯\n",
       "1 personal_care   2.86 Jeff     Elliott  M      351 Darlene Green           ⋯\n",
       "2 personal_care  29.84 Joanne   Williams F      3638 Marsh Union            ⋯\n",
       "3 health_fitness 41.28 Ashley   Lopez    F      9333 Valentine Point        ⋯\n",
       "4 misc_pos       60.05 Brian    Williams M      32941 Krystal Mill Apt. 552 ⋯\n",
       "5 travel          3.19 Nathan   Massey   M      5783 Evan Roads Apt. 465    ⋯\n",
       "6 kids_pets      19.55 Danielle Evans    F      76752 David Lodge Apt. 064  ⋯\n",
       "  lat     long      city_pop job                    dob       \n",
       "1 33.9659  -80.9355 333497   Mechanical engineer    1968-03-19\n",
       "2 40.3207 -110.4360    302   Sales professional, IT 1990-01-17\n",
       "3 40.6729  -73.5365  34496   Librarian, public      1970-10-21\n",
       "4 28.5697  -80.8191  54767   Set designer           1987-07-25\n",
       "5 44.2529  -85.0170   1126   Furniture designer     1955-07-06\n",
       "6 42.1939  -76.7361    520   Psychotherapist        1991-10-13\n",
       "  trans_num                        unix_time  merch_lat merch_long is_fraud\n",
       "1 2da90c7d74bd46a0caf3777415b3ebd3 1371816865 33.98639   -81.20071 0       \n",
       "2 324cc204407e99f51b0d6ca0055005e7 1371816873 39.45050  -109.96043 0       \n",
       "3 c81755dbbbea9d5c77f094348a7579be 1371816893 40.49581   -74.19611 0       \n",
       "4 2159175b9efe66dc301f149d3d5abf8c 1371816915 28.81240   -80.88306 0       \n",
       "5 57ff021bd3f328f8738bb535c302a31b 1371816917 44.95915   -85.88473 0       \n",
       "6 798db04aaceb4febd084f1a7c404da93 1371816937 41.74716   -77.58420 0       "
      ]
     },
     "metadata": {},
     "output_type": "display_data"
    }
   ],
   "source": [
    "# Load the data\n",
    "fraudTest <- read_csv(\"fraudTest.csv\",show_col_types = FALSE)\n",
    "head(fraudTest)"
   ]
  },
  {
   "cell_type": "code",
   "execution_count": 5,
   "id": "abc07d54-bccd-4488-bd34-4e806ca12e1d",
   "metadata": {},
   "outputs": [
    {
     "data": {
      "text/plain": [
       "      ...1        trans_date_trans_time                cc_num         \n",
       " Min.   :     0   Min.   :2020-06-21 12:14:25.00   Min.   :6.042e+10  \n",
       " 1st Qu.:138930   1st Qu.:2020-08-09 06:10:27.50   1st Qu.:1.800e+14  \n",
       " Median :277859   Median :2020-10-03 00:59:48.00   Median :3.521e+15  \n",
       " Mean   :277859   Mean   :2020-10-02 01:54:25.17   Mean   :4.178e+17  \n",
       " 3rd Qu.:416789   3rd Qu.:2020-12-01 03:03:04.00   3rd Qu.:4.635e+15  \n",
       " Max.   :555718   Max.   :2020-12-31 23:59:34.00   Max.   :4.992e+18  \n",
       "   merchant           category              amt              first          \n",
       " Length:555719      Length:555719      Min.   :    1.00   Length:555719     \n",
       " Class :character   Class :character   1st Qu.:    9.63   Class :character  \n",
       " Mode  :character   Mode  :character   Median :   47.29   Mode  :character  \n",
       "                                       Mean   :   69.39                     \n",
       "                                       3rd Qu.:   83.01                     \n",
       "                                       Max.   :22768.11                     \n",
       "     last              gender             street              city          \n",
       " Length:555719      Length:555719      Length:555719      Length:555719     \n",
       " Class :character   Class :character   Class :character   Class :character  \n",
       " Mode  :character   Mode  :character   Mode  :character   Mode  :character  \n",
       "                                                                            \n",
       "                                                                            \n",
       "                                                                            \n",
       "    state                zip             lat             long        \n",
       " Length:555719      Min.   : 1257   Min.   :20.03   Min.   :-165.67  \n",
       " Class :character   1st Qu.:26292   1st Qu.:34.67   1st Qu.: -96.80  \n",
       " Mode  :character   Median :48174   Median :39.37   Median : -87.48  \n",
       "                    Mean   :48843   Mean   :38.54   Mean   : -90.23  \n",
       "                    3rd Qu.:72011   3rd Qu.:41.89   3rd Qu.: -80.18  \n",
       "                    Max.   :99921   Max.   :65.69   Max.   : -67.95  \n",
       "    city_pop           job                 dob              trans_num        \n",
       " Min.   :     23   Length:555719      Min.   :1924-10-30   Length:555719     \n",
       " 1st Qu.:    741   Class :character   1st Qu.:1962-09-27   Class :character  \n",
       " Median :   2408   Mode  :character   Median :1975-11-30   Mode  :character  \n",
       " Mean   :  88222                      Mean   :1973-11-11                     \n",
       " 3rd Qu.:  19685                      3rd Qu.:1987-04-23                     \n",
       " Max.   :2906700                      Max.   :2005-01-29                     \n",
       "   unix_time           merch_lat       merch_long         is_fraud      \n",
       " Min.   :1.372e+09   Min.   :19.03   Min.   :-166.67   Min.   :0.00000  \n",
       " 1st Qu.:1.376e+09   1st Qu.:34.76   1st Qu.: -96.91   1st Qu.:0.00000  \n",
       " Median :1.381e+09   Median :39.38   Median : -87.45   Median :0.00000  \n",
       " Mean   :1.381e+09   Mean   :38.54   Mean   : -90.23   Mean   :0.00386  \n",
       " 3rd Qu.:1.386e+09   3rd Qu.:41.95   3rd Qu.: -80.26   3rd Qu.:0.00000  \n",
       " Max.   :1.389e+09   Max.   :66.68   Max.   : -66.95   Max.   :1.00000  "
      ]
     },
     "metadata": {},
     "output_type": "display_data"
    },
    {
     "name": "stdout",
     "output_type": "stream",
     "text": [
      "spc_tbl_ [555,719 × 23] (S3: spec_tbl_df/tbl_df/tbl/data.frame)\n",
      " $ ...1                 : num [1:555719] 0 1 2 3 4 5 6 7 8 9 ...\n",
      " $ trans_date_trans_time: POSIXct[1:555719], format: \"2020-06-21 12:14:25\" \"2020-06-21 12:14:33\" ...\n",
      " $ cc_num               : num [1:555719] 2.29e+15 3.57e+15 3.60e+15 3.59e+15 3.53e+15 ...\n",
      " $ merchant             : chr [1:555719] \"fraud_Kirlin and Sons\" \"fraud_Sporer-Keebler\" \"fraud_Swaniawski, Nitzsche and Welch\" \"fraud_Haley Group\" ...\n",
      " $ category             : chr [1:555719] \"personal_care\" \"personal_care\" \"health_fitness\" \"misc_pos\" ...\n",
      " $ amt                  : num [1:555719] 2.86 29.84 41.28 60.05 3.19 ...\n",
      " $ first                : chr [1:555719] \"Jeff\" \"Joanne\" \"Ashley\" \"Brian\" ...\n",
      " $ last                 : chr [1:555719] \"Elliott\" \"Williams\" \"Lopez\" \"Williams\" ...\n",
      " $ gender               : chr [1:555719] \"M\" \"F\" \"F\" \"M\" ...\n",
      " $ street               : chr [1:555719] \"351 Darlene Green\" \"3638 Marsh Union\" \"9333 Valentine Point\" \"32941 Krystal Mill Apt. 552\" ...\n",
      " $ city                 : chr [1:555719] \"Columbia\" \"Altonah\" \"Bellmore\" \"Titusville\" ...\n",
      " $ state                : chr [1:555719] \"SC\" \"UT\" \"NY\" \"FL\" ...\n",
      " $ zip                  : num [1:555719] 29209 84002 11710 32780 49632 ...\n",
      " $ lat                  : num [1:555719] 34 40.3 40.7 28.6 44.3 ...\n",
      " $ long                 : num [1:555719] -80.9 -110.4 -73.5 -80.8 -85 ...\n",
      " $ city_pop             : num [1:555719] 333497 302 34496 54767 1126 ...\n",
      " $ job                  : chr [1:555719] \"Mechanical engineer\" \"Sales professional, IT\" \"Librarian, public\" \"Set designer\" ...\n",
      " $ dob                  : Date[1:555719], format: \"1968-03-19\" \"1990-01-17\" ...\n",
      " $ trans_num            : chr [1:555719] \"2da90c7d74bd46a0caf3777415b3ebd3\" \"324cc204407e99f51b0d6ca0055005e7\" \"c81755dbbbea9d5c77f094348a7579be\" \"2159175b9efe66dc301f149d3d5abf8c\" ...\n",
      " $ unix_time            : num [1:555719] 1.37e+09 1.37e+09 1.37e+09 1.37e+09 1.37e+09 ...\n",
      " $ merch_lat            : num [1:555719] 34 39.5 40.5 28.8 45 ...\n",
      " $ merch_long           : num [1:555719] -81.2 -110 -74.2 -80.9 -85.9 ...\n",
      " $ is_fraud             : num [1:555719] 0 0 0 0 0 0 0 0 0 0 ...\n",
      " - attr(*, \"spec\")=\n",
      "  .. cols(\n",
      "  ..   ...1 = \u001b[32mcol_double()\u001b[39m,\n",
      "  ..   trans_date_trans_time = \u001b[34mcol_datetime(format = \"\")\u001b[39m,\n",
      "  ..   cc_num = \u001b[32mcol_double()\u001b[39m,\n",
      "  ..   merchant = \u001b[31mcol_character()\u001b[39m,\n",
      "  ..   category = \u001b[31mcol_character()\u001b[39m,\n",
      "  ..   amt = \u001b[32mcol_double()\u001b[39m,\n",
      "  ..   first = \u001b[31mcol_character()\u001b[39m,\n",
      "  ..   last = \u001b[31mcol_character()\u001b[39m,\n",
      "  ..   gender = \u001b[31mcol_character()\u001b[39m,\n",
      "  ..   street = \u001b[31mcol_character()\u001b[39m,\n",
      "  ..   city = \u001b[31mcol_character()\u001b[39m,\n",
      "  ..   state = \u001b[31mcol_character()\u001b[39m,\n",
      "  ..   zip = \u001b[32mcol_double()\u001b[39m,\n",
      "  ..   lat = \u001b[32mcol_double()\u001b[39m,\n",
      "  ..   long = \u001b[32mcol_double()\u001b[39m,\n",
      "  ..   city_pop = \u001b[32mcol_double()\u001b[39m,\n",
      "  ..   job = \u001b[31mcol_character()\u001b[39m,\n",
      "  ..   dob = \u001b[34mcol_date(format = \"\")\u001b[39m,\n",
      "  ..   trans_num = \u001b[31mcol_character()\u001b[39m,\n",
      "  ..   unix_time = \u001b[32mcol_double()\u001b[39m,\n",
      "  ..   merch_lat = \u001b[32mcol_double()\u001b[39m,\n",
      "  ..   merch_long = \u001b[32mcol_double()\u001b[39m,\n",
      "  ..   is_fraud = \u001b[32mcol_double()\u001b[39m\n",
      "  .. )\n",
      " - attr(*, \"problems\")=<externalptr> \n"
     ]
    },
    {
     "data": {
      "text/html": [
       "<style>\n",
       ".list-inline {list-style: none; margin:0; padding: 0}\n",
       ".list-inline>li {display: inline-block}\n",
       ".list-inline>li:not(:last-child)::after {content: \"\\00b7\"; padding: 0 .5ex}\n",
       "</style>\n",
       "<ol class=list-inline><li>'...1'</li><li>'trans_date_trans_time'</li><li>'cc_num'</li><li>'merchant'</li><li>'category'</li><li>'amt'</li><li>'first'</li><li>'last'</li><li>'gender'</li><li>'street'</li><li>'city'</li><li>'state'</li><li>'zip'</li><li>'lat'</li><li>'long'</li><li>'city_pop'</li><li>'job'</li><li>'dob'</li><li>'trans_num'</li><li>'unix_time'</li><li>'merch_lat'</li><li>'merch_long'</li><li>'is_fraud'</li></ol>\n"
      ],
      "text/latex": [
       "\\begin{enumerate*}\n",
       "\\item '...1'\n",
       "\\item 'trans\\_date\\_trans\\_time'\n",
       "\\item 'cc\\_num'\n",
       "\\item 'merchant'\n",
       "\\item 'category'\n",
       "\\item 'amt'\n",
       "\\item 'first'\n",
       "\\item 'last'\n",
       "\\item 'gender'\n",
       "\\item 'street'\n",
       "\\item 'city'\n",
       "\\item 'state'\n",
       "\\item 'zip'\n",
       "\\item 'lat'\n",
       "\\item 'long'\n",
       "\\item 'city\\_pop'\n",
       "\\item 'job'\n",
       "\\item 'dob'\n",
       "\\item 'trans\\_num'\n",
       "\\item 'unix\\_time'\n",
       "\\item 'merch\\_lat'\n",
       "\\item 'merch\\_long'\n",
       "\\item 'is\\_fraud'\n",
       "\\end{enumerate*}\n"
      ],
      "text/markdown": [
       "1. '...1'\n",
       "2. 'trans_date_trans_time'\n",
       "3. 'cc_num'\n",
       "4. 'merchant'\n",
       "5. 'category'\n",
       "6. 'amt'\n",
       "7. 'first'\n",
       "8. 'last'\n",
       "9. 'gender'\n",
       "10. 'street'\n",
       "11. 'city'\n",
       "12. 'state'\n",
       "13. 'zip'\n",
       "14. 'lat'\n",
       "15. 'long'\n",
       "16. 'city_pop'\n",
       "17. 'job'\n",
       "18. 'dob'\n",
       "19. 'trans_num'\n",
       "20. 'unix_time'\n",
       "21. 'merch_lat'\n",
       "22. 'merch_long'\n",
       "23. 'is_fraud'\n",
       "\n",
       "\n"
      ],
      "text/plain": [
       " [1] \"...1\"                  \"trans_date_trans_time\" \"cc_num\"               \n",
       " [4] \"merchant\"              \"category\"              \"amt\"                  \n",
       " [7] \"first\"                 \"last\"                  \"gender\"               \n",
       "[10] \"street\"                \"city\"                  \"state\"                \n",
       "[13] \"zip\"                   \"lat\"                   \"long\"                 \n",
       "[16] \"city_pop\"              \"job\"                   \"dob\"                  \n",
       "[19] \"trans_num\"             \"unix_time\"             \"merch_lat\"            \n",
       "[22] \"merch_long\"            \"is_fraud\"             "
      ]
     },
     "metadata": {},
     "output_type": "display_data"
    },
    {
     "data": {
      "text/html": [
       "0"
      ],
      "text/latex": [
       "0"
      ],
      "text/markdown": [
       "0"
      ],
      "text/plain": [
       "[1] 0"
      ]
     },
     "metadata": {},
     "output_type": "display_data"
    },
    {
     "data": {
      "text/html": [
       "0"
      ],
      "text/latex": [
       "0"
      ],
      "text/markdown": [
       "0"
      ],
      "text/plain": [
       "[1] 0"
      ]
     },
     "metadata": {},
     "output_type": "display_data"
    }
   ],
   "source": [
    "# Exploratory Data Analysis\n",
    "summary(fraudTest)\n",
    "str(fraudTest)\n",
    "colnames(fraudTest)\n",
    "sum(is.na(fraudTest))\n",
    "sum(duplicated(fraudTest))"
   ]
  },
  {
   "cell_type": "code",
   "execution_count": 6,
   "id": "35757ba8-dd4e-4817-8966-eb4ce1329a6b",
   "metadata": {},
   "outputs": [
    {
     "data": {
      "text/html": [
       "<table class=\"dataframe\">\n",
       "<caption>A tibble: 6 × 17</caption>\n",
       "<thead>\n",
       "\t<tr><th scope=col>Date</th><th scope=col>cc_num</th><th scope=col>merchant</th><th scope=col>category</th><th scope=col>amt</th><th scope=col>gender</th><th scope=col>street</th><th scope=col>city</th><th scope=col>state</th><th scope=col>zip</th><th scope=col>lat</th><th scope=col>long</th><th scope=col>city_pop</th><th scope=col>job</th><th scope=col>merch_lat</th><th scope=col>merch_long</th><th scope=col>is_fraud</th></tr>\n",
       "\t<tr><th scope=col>&lt;date&gt;</th><th scope=col>&lt;dbl&gt;</th><th scope=col>&lt;chr&gt;</th><th scope=col>&lt;chr&gt;</th><th scope=col>&lt;dbl&gt;</th><th scope=col>&lt;chr&gt;</th><th scope=col>&lt;chr&gt;</th><th scope=col>&lt;chr&gt;</th><th scope=col>&lt;chr&gt;</th><th scope=col>&lt;dbl&gt;</th><th scope=col>&lt;dbl&gt;</th><th scope=col>&lt;dbl&gt;</th><th scope=col>&lt;dbl&gt;</th><th scope=col>&lt;chr&gt;</th><th scope=col>&lt;dbl&gt;</th><th scope=col>&lt;dbl&gt;</th><th scope=col>&lt;fct&gt;</th></tr>\n",
       "</thead>\n",
       "<tbody>\n",
       "\t<tr><td>2020-06-21</td><td>2.291164e+15</td><td>fraud_Kirlin and Sons               </td><td>personal_care </td><td> 2.86</td><td>M</td><td>351 Darlene Green          </td><td>Columbia  </td><td>SC</td><td>29209</td><td>33.9659</td><td> -80.9355</td><td>333497</td><td>Mechanical engineer   </td><td>33.98639</td><td> -81.20071</td><td>0</td></tr>\n",
       "\t<tr><td>2020-06-21</td><td>3.573030e+15</td><td>fraud_Sporer-Keebler                </td><td>personal_care </td><td>29.84</td><td>F</td><td>3638 Marsh Union           </td><td>Altonah   </td><td>UT</td><td>84002</td><td>40.3207</td><td>-110.4360</td><td>   302</td><td>Sales professional, IT</td><td>39.45050</td><td>-109.96043</td><td>0</td></tr>\n",
       "\t<tr><td>2020-06-21</td><td>3.598215e+15</td><td>fraud_Swaniawski, Nitzsche and Welch</td><td>health_fitness</td><td>41.28</td><td>F</td><td>9333 Valentine Point       </td><td>Bellmore  </td><td>NY</td><td>11710</td><td>40.6729</td><td> -73.5365</td><td> 34496</td><td>Librarian, public     </td><td>40.49581</td><td> -74.19611</td><td>0</td></tr>\n",
       "\t<tr><td>2020-06-21</td><td>3.591920e+15</td><td>fraud_Haley Group                   </td><td>misc_pos      </td><td>60.05</td><td>M</td><td>32941 Krystal Mill Apt. 552</td><td>Titusville</td><td>FL</td><td>32780</td><td>28.5697</td><td> -80.8191</td><td> 54767</td><td>Set designer          </td><td>28.81240</td><td> -80.88306</td><td>0</td></tr>\n",
       "\t<tr><td>2020-06-21</td><td>3.526826e+15</td><td>fraud_Johnston-Casper               </td><td>travel        </td><td> 3.19</td><td>M</td><td>5783 Evan Roads Apt. 465   </td><td>Falmouth  </td><td>MI</td><td>49632</td><td>44.2529</td><td> -85.0170</td><td>  1126</td><td>Furniture designer    </td><td>44.95915</td><td> -85.88473</td><td>0</td></tr>\n",
       "\t<tr><td>2020-06-21</td><td>3.040768e+13</td><td>fraud_Daugherty LLC                 </td><td>kids_pets     </td><td>19.55</td><td>F</td><td>76752 David Lodge Apt. 064 </td><td>Breesport </td><td>NY</td><td>14816</td><td>42.1939</td><td> -76.7361</td><td>   520</td><td>Psychotherapist       </td><td>41.74716</td><td> -77.58420</td><td>0</td></tr>\n",
       "</tbody>\n",
       "</table>\n"
      ],
      "text/latex": [
       "A tibble: 6 × 17\n",
       "\\begin{tabular}{lllllllllllllllll}\n",
       " Date & cc\\_num & merchant & category & amt & gender & street & city & state & zip & lat & long & city\\_pop & job & merch\\_lat & merch\\_long & is\\_fraud\\\\\n",
       " <date> & <dbl> & <chr> & <chr> & <dbl> & <chr> & <chr> & <chr> & <chr> & <dbl> & <dbl> & <dbl> & <dbl> & <chr> & <dbl> & <dbl> & <fct>\\\\\n",
       "\\hline\n",
       "\t 2020-06-21 & 2.291164e+15 & fraud\\_Kirlin and Sons                & personal\\_care  &  2.86 & M & 351 Darlene Green           & Columbia   & SC & 29209 & 33.9659 &  -80.9355 & 333497 & Mechanical engineer    & 33.98639 &  -81.20071 & 0\\\\\n",
       "\t 2020-06-21 & 3.573030e+15 & fraud\\_Sporer-Keebler                 & personal\\_care  & 29.84 & F & 3638 Marsh Union            & Altonah    & UT & 84002 & 40.3207 & -110.4360 &    302 & Sales professional, IT & 39.45050 & -109.96043 & 0\\\\\n",
       "\t 2020-06-21 & 3.598215e+15 & fraud\\_Swaniawski, Nitzsche and Welch & health\\_fitness & 41.28 & F & 9333 Valentine Point        & Bellmore   & NY & 11710 & 40.6729 &  -73.5365 &  34496 & Librarian, public      & 40.49581 &  -74.19611 & 0\\\\\n",
       "\t 2020-06-21 & 3.591920e+15 & fraud\\_Haley Group                    & misc\\_pos       & 60.05 & M & 32941 Krystal Mill Apt. 552 & Titusville & FL & 32780 & 28.5697 &  -80.8191 &  54767 & Set designer           & 28.81240 &  -80.88306 & 0\\\\\n",
       "\t 2020-06-21 & 3.526826e+15 & fraud\\_Johnston-Casper                & travel         &  3.19 & M & 5783 Evan Roads Apt. 465    & Falmouth   & MI & 49632 & 44.2529 &  -85.0170 &   1126 & Furniture designer     & 44.95915 &  -85.88473 & 0\\\\\n",
       "\t 2020-06-21 & 3.040768e+13 & fraud\\_Daugherty LLC                  & kids\\_pets      & 19.55 & F & 76752 David Lodge Apt. 064  & Breesport  & NY & 14816 & 42.1939 &  -76.7361 &    520 & Psychotherapist        & 41.74716 &  -77.58420 & 0\\\\\n",
       "\\end{tabular}\n"
      ],
      "text/markdown": [
       "\n",
       "A tibble: 6 × 17\n",
       "\n",
       "| Date &lt;date&gt; | cc_num &lt;dbl&gt; | merchant &lt;chr&gt; | category &lt;chr&gt; | amt &lt;dbl&gt; | gender &lt;chr&gt; | street &lt;chr&gt; | city &lt;chr&gt; | state &lt;chr&gt; | zip &lt;dbl&gt; | lat &lt;dbl&gt; | long &lt;dbl&gt; | city_pop &lt;dbl&gt; | job &lt;chr&gt; | merch_lat &lt;dbl&gt; | merch_long &lt;dbl&gt; | is_fraud &lt;fct&gt; |\n",
       "|---|---|---|---|---|---|---|---|---|---|---|---|---|---|---|---|---|\n",
       "| 2020-06-21 | 2.291164e+15 | fraud_Kirlin and Sons                | personal_care  |  2.86 | M | 351 Darlene Green           | Columbia   | SC | 29209 | 33.9659 |  -80.9355 | 333497 | Mechanical engineer    | 33.98639 |  -81.20071 | 0 |\n",
       "| 2020-06-21 | 3.573030e+15 | fraud_Sporer-Keebler                 | personal_care  | 29.84 | F | 3638 Marsh Union            | Altonah    | UT | 84002 | 40.3207 | -110.4360 |    302 | Sales professional, IT | 39.45050 | -109.96043 | 0 |\n",
       "| 2020-06-21 | 3.598215e+15 | fraud_Swaniawski, Nitzsche and Welch | health_fitness | 41.28 | F | 9333 Valentine Point        | Bellmore   | NY | 11710 | 40.6729 |  -73.5365 |  34496 | Librarian, public      | 40.49581 |  -74.19611 | 0 |\n",
       "| 2020-06-21 | 3.591920e+15 | fraud_Haley Group                    | misc_pos       | 60.05 | M | 32941 Krystal Mill Apt. 552 | Titusville | FL | 32780 | 28.5697 |  -80.8191 |  54767 | Set designer           | 28.81240 |  -80.88306 | 0 |\n",
       "| 2020-06-21 | 3.526826e+15 | fraud_Johnston-Casper                | travel         |  3.19 | M | 5783 Evan Roads Apt. 465    | Falmouth   | MI | 49632 | 44.2529 |  -85.0170 |   1126 | Furniture designer     | 44.95915 |  -85.88473 | 0 |\n",
       "| 2020-06-21 | 3.040768e+13 | fraud_Daugherty LLC                  | kids_pets      | 19.55 | F | 76752 David Lodge Apt. 064  | Breesport  | NY | 14816 | 42.1939 |  -76.7361 |    520 | Psychotherapist        | 41.74716 |  -77.58420 | 0 |\n",
       "\n"
      ],
      "text/plain": [
       "  Date       cc_num       merchant                             category      \n",
       "1 2020-06-21 2.291164e+15 fraud_Kirlin and Sons                personal_care \n",
       "2 2020-06-21 3.573030e+15 fraud_Sporer-Keebler                 personal_care \n",
       "3 2020-06-21 3.598215e+15 fraud_Swaniawski, Nitzsche and Welch health_fitness\n",
       "4 2020-06-21 3.591920e+15 fraud_Haley Group                    misc_pos      \n",
       "5 2020-06-21 3.526826e+15 fraud_Johnston-Casper                travel        \n",
       "6 2020-06-21 3.040768e+13 fraud_Daugherty LLC                  kids_pets     \n",
       "  amt   gender street                      city       state zip   lat    \n",
       "1  2.86 M      351 Darlene Green           Columbia   SC    29209 33.9659\n",
       "2 29.84 F      3638 Marsh Union            Altonah    UT    84002 40.3207\n",
       "3 41.28 F      9333 Valentine Point        Bellmore   NY    11710 40.6729\n",
       "4 60.05 M      32941 Krystal Mill Apt. 552 Titusville FL    32780 28.5697\n",
       "5  3.19 M      5783 Evan Roads Apt. 465    Falmouth   MI    49632 44.2529\n",
       "6 19.55 F      76752 David Lodge Apt. 064  Breesport  NY    14816 42.1939\n",
       "  long      city_pop job                    merch_lat merch_long is_fraud\n",
       "1  -80.9355 333497   Mechanical engineer    33.98639   -81.20071 0       \n",
       "2 -110.4360    302   Sales professional, IT 39.45050  -109.96043 0       \n",
       "3  -73.5365  34496   Librarian, public      40.49581   -74.19611 0       \n",
       "4  -80.8191  54767   Set designer           28.81240   -80.88306 0       \n",
       "5  -85.0170   1126   Furniture designer     44.95915   -85.88473 0       \n",
       "6  -76.7361    520   Psychotherapist        41.74716   -77.58420 0       "
      ]
     },
     "metadata": {},
     "output_type": "display_data"
    }
   ],
   "source": [
    "# Convert date column to Date type\n",
    "fraudTest$trans_date_trans_time <- as.Date(fraudTest$trans_date_trans_time,\n",
    "                                           format = \"%Y-%m-%d\")\n",
    "# Rename columns and subset data\n",
    "fraudTest <- fraudTest |> rename(Date = trans_date_trans_time)\n",
    "Data <- fraudTest[-c(1,7,8,18,19,20)]  # Adjust column indices as needed\n",
    "\n",
    "# Convert target variable to factor\n",
    "Data$is_fraud <- as.factor(Data$is_fraud)\n",
    "\n",
    "head(Data)"
   ]
  },
  {
   "cell_type": "code",
   "execution_count": 7,
   "id": "223e3754-f235-4f9f-b2ce-35462d8c5e45",
   "metadata": {},
   "outputs": [],
   "source": [
    "# Split data into training and test sets\n",
    "set.seed(123)  # Set seed for reproducibility\n",
    "trainIndex <- sample(1:nrow(Data), size = as.integer(0.7 * nrow(Data)),\n",
    "                     replace = FALSE)\n",
    "train_data <- Data[trainIndex, ]\n",
    "test_data <- Data[-trainIndex, ]"
   ]
  },
  {
   "cell_type": "code",
   "execution_count": 8,
   "id": "586f68a7-39e9-4a8d-97bc-8cce12288e8e",
   "metadata": {},
   "outputs": [
    {
     "name": "stdout",
     "output_type": "stream",
     "text": [
      "[1] \"Decision Tree Model Evaluation:\"\n",
      "Confusion Matrix and Statistics\n",
      "\n",
      "          Reference\n",
      "Prediction      0      1\n",
      "         0 166010    236\n",
      "         1     83    387\n",
      "                                          \n",
      "               Accuracy : 0.9981          \n",
      "                 95% CI : (0.9979, 0.9983)\n",
      "    No Information Rate : 0.9963          \n",
      "    P-Value [Acc > NIR] : < 2.2e-16       \n",
      "                                          \n",
      "                  Kappa : 0.7072          \n",
      "                                          \n",
      " Mcnemar's Test P-Value : < 2.2e-16       \n",
      "                                          \n",
      "            Sensitivity : 0.9995          \n",
      "            Specificity : 0.6212          \n",
      "         Pos Pred Value : 0.9986          \n",
      "         Neg Pred Value : 0.8234          \n",
      "             Prevalence : 0.9963          \n",
      "         Detection Rate : 0.9958          \n",
      "   Detection Prevalence : 0.9972          \n",
      "      Balanced Accuracy : 0.8103          \n",
      "                                          \n",
      "       'Positive' Class : 0               \n",
      "                                          \n"
     ]
    }
   ],
   "source": [
    "# Decision Tree Model\n",
    "tree_model <- rpart(is_fraud ~ ., data = train_data, method = \"class\")\n",
    "tree_pred <- predict(tree_model, newdata = test_data, type = \"class\")\n",
    "tree_pred <- factor(tree_pred, levels = levels(test_data$is_fraud))\n",
    "\n",
    "# Evaluate Decision Tree Model\n",
    "tree_cm <- confusionMatrix(tree_pred, test_data$is_fraud)\n",
    "print(\"Decision Tree Model Evaluation:\")\n",
    "print(tree_cm)\n"
   ]
  },
  {
   "cell_type": "code",
   "execution_count": 9,
   "id": "9fb014f0-caaa-4c77-b944-bcbcc09b05a6",
   "metadata": {},
   "outputs": [
    {
     "name": "stdout",
     "output_type": "stream",
     "text": [
      "[1] \"Random Forest Model Evaluation:\"\n",
      "Confusion Matrix and Statistics\n",
      "\n",
      "          Reference\n",
      "Prediction      0      1\n",
      "         0 166064    257\n",
      "         1     29    366\n",
      "                                          \n",
      "               Accuracy : 0.9983          \n",
      "                 95% CI : (0.9981, 0.9985)\n",
      "    No Information Rate : 0.9963          \n",
      "    P-Value [Acc > NIR] : < 2.2e-16       \n",
      "                                          \n",
      "                  Kappa : 0.7182          \n",
      "                                          \n",
      " Mcnemar's Test P-Value : < 2.2e-16       \n",
      "                                          \n",
      "            Sensitivity : 0.9998          \n",
      "            Specificity : 0.5875          \n",
      "         Pos Pred Value : 0.9985          \n",
      "         Neg Pred Value : 0.9266          \n",
      "             Prevalence : 0.9963          \n",
      "         Detection Rate : 0.9961          \n",
      "   Detection Prevalence : 0.9976          \n",
      "      Balanced Accuracy : 0.7937          \n",
      "                                          \n",
      "       'Positive' Class : 0               \n",
      "                                          \n"
     ]
    }
   ],
   "source": [
    "# Random Forest Model\n",
    "rf_model <- randomForest(is_fraud ~ ., data = train_data, ntree = 100)\n",
    "rf_pred <- predict(rf_model, newdata = test_data)\n",
    "rf_pred <- factor(rf_pred, levels = levels(test_data$is_fraud))\n",
    "\n",
    "# Evaluate Random Forest Model\n",
    "rf_cm <- confusionMatrix(rf_pred, test_data$is_fraud)\n",
    "print(\"Random Forest Model Evaluation:\")\n",
    "print(rf_cm)\n"
   ]
  },
  {
   "cell_type": "code",
   "execution_count": 11,
   "id": "62ecdd3f-aa88-41d2-b0f4-f81a2188406e",
   "metadata": {},
   "outputs": [
    {
     "name": "stdout",
     "output_type": "stream",
     "text": [
      "[1] \"Decision Tree Accuracy:\"\n",
      " Accuracy \n",
      "0.9980866 \n",
      "[1] \"Random Forest Accuracy:\"\n",
      " Accuracy \n",
      "0.9982845 \n"
     ]
    },
    {
     "name": "stderr",
     "output_type": "stream",
     "text": [
      "Setting levels: control = 0, case = 1\n",
      "\n",
      "Setting direction: controls < cases\n",
      "\n"
     ]
    },
    {
     "data": {
      "text/html": [
       "0.914675405844831"
      ],
      "text/latex": [
       "0.914675405844831"
      ],
      "text/markdown": [
       "0.914675405844831"
      ],
      "text/plain": [
       "Area under the curve: 0.9147"
      ]
     },
     "metadata": {},
     "output_type": "display_data"
    },
    {
     "name": "stderr",
     "output_type": "stream",
     "text": [
      "Setting levels: control = 0, case = 1\n",
      "\n",
      "Setting direction: controls < cases\n",
      "\n"
     ]
    },
    {
     "data": {
      "image/png": "[encoded data removed]",
      "text/plain": [
       "Plot with title \"ROC Curve for Decision Tree\""
      ]
     },
     "metadata": {
      "image/png": {
       "height": 420,
       "width": 420
      }
     },
     "output_type": "display_data"
    },
    {
     "data": {
      "text/html": [
       "0.980031560766991"
      ],
      "text/latex": [
       "0.980031560766991"
      ],
      "text/markdown": [
       "0.980031560766991"
      ],
      "text/plain": [
       "Area under the curve: 0.98"
      ]
     },
     "metadata": {},
     "output_type": "display_data"
    },
    {
     "data": {
      "image/png": "[encoded data removed]",
      "text/plain": [
       "Plot with title \"ROC Curve for Random Forest\""
      ]
     },
     "metadata": {
      "image/png": {
       "height": 420,
       "width": 420
      }
     },
     "output_type": "display_data"
    }
   ],
   "source": [
    "# Comparing Model Performance\n",
    "print(\"Decision Tree Accuracy:\")\n",
    "print(tree_cm$overall[\"Accuracy\"])\n",
    "print(\"Random Forest Accuracy:\")\n",
    "print(rf_cm$overall[\"Accuracy\"])\n",
    "\n",
    "# ROC Curve and AUC for both models\n",
    "tree_prob <- predict(tree_model, newdata = test_data, type = \"prob\")[, 2]\n",
    "tree_roc <- roc(test_data$is_fraud, tree_prob)\n",
    "plot(tree_roc, main = \"ROC Curve for Decision Tree\", col = \"blue\")\n",
    "auc(tree_roc)\n",
    "\n",
    "rf_prob <- predict(rf_model, newdata = test_data, type = \"prob\")[, 2]\n",
    "rf_roc <- roc(test_data$is_fraud, rf_prob)\n",
    "plot(rf_roc, main = \"ROC Curve for Random Forest\", col = \"red\")\n",
    "auc(rf_roc)\n"
   ]
  },
  {
   "cell_type": "code",
   "execution_count": null,
   "id": "50a1d0fd-0fe0-4461-95f4-d0ff965dadb9",
   "metadata": {},
   "outputs": [],
   "source": []
  }
 ],
 "metadata": {
  "kernelspec": {
   "display_name": "R",
   "language": "R",
   "name": "ir"
  },
  "language_info": {
   "codemirror_mode": "r",
   "file_extension": ".r",
   "mimetype": "text/x-r-source",
   "name": "R",
   "pygments_lexer": "r",
   "version": "4.4.1"
  }
 },
 "nbformat": 4,
 "nbformat_minor": 5
}
