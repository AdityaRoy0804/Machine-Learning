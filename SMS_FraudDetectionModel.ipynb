{
 "cells": [
  {
   "cell_type": "code",
   "execution_count": 1,
   "id": "42a31946-d3a5-449c-894b-c49f1f79c7b0",
   "metadata": {},
   "outputs": [],
   "source": [
    "setwd(\"C:/Users/DJ COMPUTERS/OneDrive/Desktop/R prog\")\n",
    "### SMS FRAUD DETECTION MODEL ###\n",
    "### ADITYA KUMAR ROY ###"
   ]
  },
  {
   "cell_type": "code",
   "execution_count": 3,
   "id": "0fc8841d-1411-4f25-a803-d90ee5357937",
   "metadata": {},
   "outputs": [],
   "source": [
    "# Load required libraries\n",
    "library(readr)\n",
    "library(dplyr)\n",
    "library(tidyr)\n",
    "library(tm)         # For text mining\n",
    "library(caret)      # For model evaluation\n",
    "library(e1071)      # For Naive Bayes and SVM\n",
    "library(text2vec)   # For TF-IDF\n",
    "library(glmnet)     # For Logistic Regression"
   ]
  },
  {
   "cell_type": "code",
   "execution_count": 4,
   "id": "f5a9baf2-a0b8-4759-b342-f57cad0246fa",
   "metadata": {},
   "outputs": [
    {
     "name": "stderr",
     "output_type": "stream",
     "text": [
      "\u001b[1m\u001b[22mNew names:\n",
      "\u001b[36m•\u001b[39m `` -> `...3`\n",
      "\u001b[36m•\u001b[39m `` -> `...4`\n",
      "\u001b[36m•\u001b[39m `` -> `...5`\n"
     ]
    }
   ],
   "source": [
    "# loading datasets\n",
    "sms_data <- read_csv(\"spam (1).csv\",show_col_types = FALSE)\n"
   ]
  },
  {
   "cell_type": "code",
   "execution_count": 5,
   "id": "b10e2091-99a0-4eb4-ac09-8fe63f986138",
   "metadata": {},
   "outputs": [],
   "source": [
    "#Data Preprocessing\n",
    "\n",
    "# Adjust column names\n",
    "colnames(sms_data) <- c(\"label\", \"message\")  \n",
    "sms_data$label <- as.factor(sms_data$label)\n",
    "\n",
    "# Remove or replace any non-UTF-8 characters\n",
    "sms_data$message <- iconv(sms_data$message, \"UTF-8\", \"ASCII\", sub = \"\")\n",
    "sms_data$message <- sms_data$message %>%\n",
    "  tolower() %>%removePunctuation() %>%removeNumbers() %>%stripWhitespace()"
   ]
  },
  {
   "cell_type": "code",
   "execution_count": 6,
   "id": "8ce069fd-6cbf-4572-a751-f6adbe7fb8dc",
   "metadata": {},
   "outputs": [
    {
     "data": {
      "text/html": [
       "<table class=\"dataframe\">\n",
       "<caption>A tibble: 6 × 5</caption>\n",
       "<thead>\n",
       "\t<tr><th scope=col>label</th><th scope=col>message</th><th scope=col>NA</th><th scope=col>NA</th><th scope=col>NA</th></tr>\n",
       "\t<tr><th scope=col>&lt;fct&gt;</th><th scope=col>&lt;chr&gt;</th><th scope=col>&lt;chr&gt;</th><th scope=col>&lt;chr&gt;</th><th scope=col>&lt;chr&gt;</th></tr>\n",
       "</thead>\n",
       "<tbody>\n",
       "\t<tr><td>ham </td><td>go until jurong point crazy available only in bugis n great world la e buffet cine there got amore wat                              </td><td>NA</td><td>NA</td><td>NA</td></tr>\n",
       "\t<tr><td>ham </td><td>ok lar joking wif u oni                                                                                                             </td><td>NA</td><td>NA</td><td>NA</td></tr>\n",
       "\t<tr><td>spam</td><td>free entry in a wkly comp to win fa cup final tkts st may text fa to to receive entry questionstd txt ratetcs apply overs           </td><td>NA</td><td>NA</td><td>NA</td></tr>\n",
       "\t<tr><td>ham </td><td>u dun say so early hor u c already then say                                                                                         </td><td>NA</td><td>NA</td><td>NA</td></tr>\n",
       "\t<tr><td>ham </td><td>nah i dont think he goes to usf he lives around here though                                                                         </td><td>NA</td><td>NA</td><td>NA</td></tr>\n",
       "\t<tr><td>spam</td><td>freemsg hey there darling its been weeks now and no word back id like some fun you up for it still tb ok xxx std chgs to send to rcv</td><td>NA</td><td>NA</td><td>NA</td></tr>\n",
       "</tbody>\n",
       "</table>\n"
      ],
      "text/latex": [
       "A tibble: 6 × 5\n",
       "\\begin{tabular}{lllll}\n",
       " label & message & NA & NA & NA\\\\\n",
       " <fct> & <chr> & <chr> & <chr> & <chr>\\\\\n",
       "\\hline\n",
       "\t ham  & go until jurong point crazy available only in bugis n great world la e buffet cine there got amore wat                               & NA & NA & NA\\\\\n",
       "\t ham  & ok lar joking wif u oni                                                                                                              & NA & NA & NA\\\\\n",
       "\t spam & free entry in a wkly comp to win fa cup final tkts st may text fa to to receive entry questionstd txt ratetcs apply overs            & NA & NA & NA\\\\\n",
       "\t ham  & u dun say so early hor u c already then say                                                                                          & NA & NA & NA\\\\\n",
       "\t ham  & nah i dont think he goes to usf he lives around here though                                                                          & NA & NA & NA\\\\\n",
       "\t spam & freemsg hey there darling its been weeks now and no word back id like some fun you up for it still tb ok xxx std chgs to send to rcv & NA & NA & NA\\\\\n",
       "\\end{tabular}\n"
      ],
      "text/markdown": [
       "\n",
       "A tibble: 6 × 5\n",
       "\n",
       "| label &lt;fct&gt; | message &lt;chr&gt; | NA &lt;chr&gt; | NA &lt;chr&gt; | NA &lt;chr&gt; |\n",
       "|---|---|---|---|---|\n",
       "| ham  | go until jurong point crazy available only in bugis n great world la e buffet cine there got amore wat                               | NA | NA | NA |\n",
       "| ham  | ok lar joking wif u oni                                                                                                              | NA | NA | NA |\n",
       "| spam | free entry in a wkly comp to win fa cup final tkts st may text fa to to receive entry questionstd txt ratetcs apply overs            | NA | NA | NA |\n",
       "| ham  | u dun say so early hor u c already then say                                                                                          | NA | NA | NA |\n",
       "| ham  | nah i dont think he goes to usf he lives around here though                                                                          | NA | NA | NA |\n",
       "| spam | freemsg hey there darling its been weeks now and no word back id like some fun you up for it still tb ok xxx std chgs to send to rcv | NA | NA | NA |\n",
       "\n"
      ],
      "text/plain": [
       "  label\n",
       "1 ham  \n",
       "2 ham  \n",
       "3 spam \n",
       "4 ham  \n",
       "5 ham  \n",
       "6 spam \n",
       "  message                                                                                                                             \n",
       "1 go until jurong point crazy available only in bugis n great world la e buffet cine there got amore wat                              \n",
       "2 ok lar joking wif u oni                                                                                                             \n",
       "3 free entry in a wkly comp to win fa cup final tkts st may text fa to to receive entry questionstd txt ratetcs apply overs           \n",
       "4 u dun say so early hor u c already then say                                                                                         \n",
       "5 nah i dont think he goes to usf he lives around here though                                                                         \n",
       "6 freemsg hey there darling its been weeks now and no word back id like some fun you up for it still tb ok xxx std chgs to send to rcv\n",
       "  <NA> <NA> <NA>\n",
       "1 NA   NA   NA  \n",
       "2 NA   NA   NA  \n",
       "3 NA   NA   NA  \n",
       "4 NA   NA   NA  \n",
       "5 NA   NA   NA  \n",
       "6 NA   NA   NA  "
      ]
     },
     "metadata": {},
     "output_type": "display_data"
    },
    {
     "data": {
      "text/plain": [
       "  label        message               NA                 NA           \n",
       " ham :4825   Length:5572        Length:5572        Length:5572       \n",
       " spam: 747   Class :character   Class :character   Class :character  \n",
       "             Mode  :character   Mode  :character   Mode  :character  \n",
       "      NA           \n",
       " Length:5572       \n",
       " Class :character  \n",
       " Mode  :character  "
      ]
     },
     "metadata": {},
     "output_type": "display_data"
    },
    {
     "name": "stdout",
     "output_type": "stream",
     "text": [
      "spc_tbl_ [5,572 × 5] (S3: spec_tbl_df/tbl_df/tbl/data.frame)\n",
      " $ label  : Factor w/ 2 levels \"ham\",\"spam\": 1 1 2 1 1 2 1 1 2 2 ...\n",
      " $ message: chr [1:5572] \"go until jurong point crazy available only in bugis n great world la e buffet cine there got amore wat\" \"ok lar joking wif u oni\" \"free entry in a wkly comp to win fa cup final tkts st may text fa to to receive entry questionstd txt ratetcs apply overs\" \"u dun say so early hor u c already then say\" ...\n",
      " $ NA     : chr [1:5572] NA NA NA NA ...\n",
      " $ NA     : chr [1:5572] NA NA NA NA ...\n",
      " $ NA     : chr [1:5572] NA NA NA NA ...\n",
      " - attr(*, \"spec\")=\n",
      "  .. cols(\n",
      "  ..   v1 = \u001b[31mcol_character()\u001b[39m,\n",
      "  ..   v2 = \u001b[31mcol_character()\u001b[39m,\n",
      "  ..   ...3 = \u001b[31mcol_character()\u001b[39m,\n",
      "  ..   ...4 = \u001b[31mcol_character()\u001b[39m,\n",
      "  ..   ...5 = \u001b[31mcol_character()\u001b[39m\n",
      "  .. )\n",
      " - attr(*, \"problems\")=<externalptr> \n"
     ]
    }
   ],
   "source": [
    "# Exploratory Data Analysis\n",
    "\n",
    "head(sms_data)\n",
    "summary(sms_data)\n",
    "str(sms_data)"
   ]
  },
  {
   "cell_type": "code",
   "execution_count": 7,
   "id": "87cf5165-d37b-4892-8f6b-c5d8a908cd89",
   "metadata": {},
   "outputs": [],
   "source": [
    "#Train-Test Split\n",
    "set.seed(123)\n",
    "train_index <- createDataPartition(sms_data$label, p = 0.7, list = FALSE)\n",
    "train_data <- sms_data[train_index, ]\n",
    "test_data <- sms_data[-train_index, ]"
   ]
  },
  {
   "cell_type": "code",
   "execution_count": 8,
   "id": "1ab61e8c-539d-4f73-ad9d-ca4800c7f1e7",
   "metadata": {},
   "outputs": [],
   "source": [
    "# TF-IDF Vectorization\n",
    "vectorizer <- text2vec::itoken(train_data$message, progressbar = FALSE)\n",
    "vocab <- text2vec::create_vocabulary(vectorizer)\n",
    "dtm_train <- text2vec::create_dtm(vectorizer, text2vec::vocab_vectorizer(vocab))\n",
    "tfidf <- text2vec::TfIdf$new()\n",
    "dtm_train <- tfidf$fit_transform(dtm_train)\n",
    "\n",
    "# Transform test data with the same TF-IDF model\n",
    "dtm_test <- text2vec::create_dtm(itoken(test_data$message), text2vec::vocab_vectorizer(vocab))\n",
    "dtm_test <- tfidf$transform(dtm_test)"
   ]
  },
  {
   "cell_type": "code",
   "execution_count": 9,
   "id": "5f50b1ae-c425-4d85-9925-0bc016b8e1d7",
   "metadata": {},
   "outputs": [
    {
     "name": "stdout",
     "output_type": "stream",
     "text": [
      "[1] \"Naive Bayes Model Evaluation:\"\n",
      "Confusion Matrix and Statistics\n",
      "\n",
      "          Reference\n",
      "Prediction  ham spam\n",
      "      ham     0    0\n",
      "      spam 1447  224\n",
      "                                          \n",
      "               Accuracy : 0.1341          \n",
      "                 95% CI : (0.1181, 0.1513)\n",
      "    No Information Rate : 0.8659          \n",
      "    P-Value [Acc > NIR] : 1               \n",
      "                                          \n",
      "                  Kappa : 0               \n",
      "                                          \n",
      " Mcnemar's Test P-Value : <2e-16          \n",
      "                                          \n",
      "            Sensitivity : 0.0000          \n",
      "            Specificity : 1.0000          \n",
      "         Pos Pred Value :    NaN          \n",
      "         Neg Pred Value : 0.1341          \n",
      "             Prevalence : 0.8659          \n",
      "         Detection Rate : 0.0000          \n",
      "   Detection Prevalence : 0.0000          \n",
      "      Balanced Accuracy : 0.5000          \n",
      "                                          \n",
      "       'Positive' Class : ham             \n",
      "                                          \n"
     ]
    }
   ],
   "source": [
    "# Naive Bayes\n",
    "dtm_train_matrix <- as.matrix(dtm_train)\n",
    "nb_model <- naiveBayes(dtm_train_matrix, train_data$label)\n",
    "dtm_test_matrix <- as.matrix(dtm_test)\n",
    "nb_pred <- predict(nb_model, dtm_test_matrix)\n",
    "nb_cm <- confusionMatrix(nb_pred, test_data$label)\n",
    "print(\"Naive Bayes Model Evaluation:\")\n",
    "print(nb_cm)"
   ]
  },
  {
   "cell_type": "code",
   "execution_count": 10,
   "id": "431ce85e-91bb-4370-99d4-980cfbbad9eb",
   "metadata": {},
   "outputs": [
    {
     "name": "stdout",
     "output_type": "stream",
     "text": [
      "[1] \"Logistic Regression Model Evaluation:\"\n",
      "Confusion Matrix and Statistics\n",
      "\n",
      "          Reference\n",
      "Prediction  ham spam\n",
      "      ham  1446  103\n",
      "      spam    1  121\n",
      "                                          \n",
      "               Accuracy : 0.9378          \n",
      "                 95% CI : (0.9251, 0.9489)\n",
      "    No Information Rate : 0.8659          \n",
      "    P-Value [Acc > NIR] : < 2.2e-16       \n",
      "                                          \n",
      "                  Kappa : 0.668           \n",
      "                                          \n",
      " Mcnemar's Test P-Value : < 2.2e-16       \n",
      "                                          \n",
      "            Sensitivity : 0.9993          \n",
      "            Specificity : 0.5402          \n",
      "         Pos Pred Value : 0.9335          \n",
      "         Neg Pred Value : 0.9918          \n",
      "             Prevalence : 0.8659          \n",
      "         Detection Rate : 0.8654          \n",
      "   Detection Prevalence : 0.9270          \n",
      "      Balanced Accuracy : 0.7697          \n",
      "                                          \n",
      "       'Positive' Class : ham             \n",
      "                                          \n"
     ]
    }
   ],
   "source": [
    "#Logistic Regression\n",
    "# Convert DTM to matrix for glmnet\n",
    "x_train <- as.matrix(dtm_train)\n",
    "x_test <- as.matrix(dtm_test)\n",
    "log_model <- glmnet(x_train, train_data$label, family = \"binomial\", alpha = 0)\n",
    "log_pred <- predict(log_model, newx = x_test, type = \"class\", s = 0.01)  # Adjust 's' for regularization\n",
    "log_cm <- confusionMatrix(as.factor(log_pred), test_data$label)\n",
    "print(\"Logistic Regression Model Evaluation:\")\n",
    "print(log_cm)"
   ]
  },
  {
   "cell_type": "code",
   "execution_count": 10,
   "id": "5b50d415-a045-49d4-aad5-19779db37022",
   "metadata": {},
   "outputs": [],
   "source": [
    "### LOGIISTIC REGRESSION MODEL IS THE BEST FIT FOR PREDICTING FRAUD SMS(FOR THE GIVEN DATASETS)."
   ]
  }
 ],
 "metadata": {
  "kernelspec": {
   "display_name": "R",
   "language": "R",
   "name": "ir"
  },
  "language_info": {
   "codemirror_mode": "r",
   "file_extension": ".r",
   "mimetype": "text/x-r-source",
   "name": "R",
   "pygments_lexer": "r",
   "version": "4.4.1"
  }
 },
 "nbformat": 4,
 "nbformat_minor": 5
}
